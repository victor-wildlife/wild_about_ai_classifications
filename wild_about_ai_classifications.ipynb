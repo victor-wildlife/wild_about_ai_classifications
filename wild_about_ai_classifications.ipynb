{
  "nbformat": 4,
  "nbformat_minor": 0,
  "metadata": {
    "colab": {
      "provenance": [],
      "toc_visible": true,
      "authorship_tag": "ABX9TyNbEIv0bRY7V3SGeTi+/Wxw",
      "include_colab_link": true
    },
    "kernelspec": {
      "name": "python3",
      "display_name": "Python 3"
    },
    "language_info": {
      "name": "python"
    },
    "widgets": {
      "application/vnd.jupyter.widget-state+json": {
        "e422a7776c8a44089d3eeaebbc4262d2": {
          "model_module": "@jupyter-widgets/controls",
          "model_name": "TextModel",
          "model_module_version": "1.5.0",
          "state": {
            "_dom_classes": [],
            "_model_module": "@jupyter-widgets/controls",
            "_model_module_version": "1.5.0",
            "_model_name": "TextModel",
            "_view_count": null,
            "_view_module": "@jupyter-widgets/controls",
            "_view_module_version": "1.5.0",
            "_view_name": "TextView",
            "continuous_update": true,
            "description": "Username(s):",
            "description_tooltip": null,
            "disabled": false,
            "layout": "IPY_MODEL_ad6bd4bfaebe4372980c9b71bc0ac9f7",
            "placeholder": "Enter your Zooniverse username(s), separated by commas",
            "style": "IPY_MODEL_3f9bf5cc74bd4bf58d3af82323f61e7c",
            "value": "portiasmith, asc0814, tigersrule824, ecorcoran69, Death13"
          }
        },
        "ad6bd4bfaebe4372980c9b71bc0ac9f7": {
          "model_module": "@jupyter-widgets/base",
          "model_name": "LayoutModel",
          "model_module_version": "1.2.0",
          "state": {
            "_model_module": "@jupyter-widgets/base",
            "_model_module_version": "1.2.0",
            "_model_name": "LayoutModel",
            "_view_count": null,
            "_view_module": "@jupyter-widgets/base",
            "_view_module_version": "1.2.0",
            "_view_name": "LayoutView",
            "align_content": null,
            "align_items": null,
            "align_self": null,
            "border": null,
            "bottom": null,
            "display": null,
            "flex": null,
            "flex_flow": null,
            "grid_area": null,
            "grid_auto_columns": null,
            "grid_auto_flow": null,
            "grid_auto_rows": null,
            "grid_column": null,
            "grid_gap": null,
            "grid_row": null,
            "grid_template_areas": null,
            "grid_template_columns": null,
            "grid_template_rows": null,
            "height": null,
            "justify_content": null,
            "justify_items": null,
            "left": null,
            "margin": null,
            "max_height": null,
            "max_width": null,
            "min_height": null,
            "min_width": null,
            "object_fit": null,
            "object_position": null,
            "order": null,
            "overflow": null,
            "overflow_x": null,
            "overflow_y": null,
            "padding": null,
            "right": null,
            "top": null,
            "visibility": null,
            "width": null
          }
        },
        "3f9bf5cc74bd4bf58d3af82323f61e7c": {
          "model_module": "@jupyter-widgets/controls",
          "model_name": "DescriptionStyleModel",
          "model_module_version": "1.5.0",
          "state": {
            "_model_module": "@jupyter-widgets/controls",
            "_model_module_version": "1.5.0",
            "_model_name": "DescriptionStyleModel",
            "_view_count": null,
            "_view_module": "@jupyter-widgets/base",
            "_view_module_version": "1.2.0",
            "_view_name": "StyleView",
            "description_width": ""
          }
        },
        "6a65b7f717394a6dae655484622c2152": {
          "model_module": "@jupyter-widgets/controls",
          "model_name": "ButtonModel",
          "model_module_version": "1.5.0",
          "state": {
            "_dom_classes": [],
            "_model_module": "@jupyter-widgets/controls",
            "_model_module_version": "1.5.0",
            "_model_name": "ButtonModel",
            "_view_count": null,
            "_view_module": "@jupyter-widgets/controls",
            "_view_module_version": "1.5.0",
            "_view_name": "ButtonView",
            "button_style": "",
            "description": "Check username(s)",
            "disabled": false,
            "icon": "",
            "layout": "IPY_MODEL_1cd65cdfd58b42159240da8f2044145d",
            "style": "IPY_MODEL_d4f8d431d8e044969212933e4effca8e",
            "tooltip": ""
          }
        },
        "1cd65cdfd58b42159240da8f2044145d": {
          "model_module": "@jupyter-widgets/base",
          "model_name": "LayoutModel",
          "model_module_version": "1.2.0",
          "state": {
            "_model_module": "@jupyter-widgets/base",
            "_model_module_version": "1.2.0",
            "_model_name": "LayoutModel",
            "_view_count": null,
            "_view_module": "@jupyter-widgets/base",
            "_view_module_version": "1.2.0",
            "_view_name": "LayoutView",
            "align_content": null,
            "align_items": null,
            "align_self": null,
            "border": null,
            "bottom": null,
            "display": null,
            "flex": null,
            "flex_flow": null,
            "grid_area": null,
            "grid_auto_columns": null,
            "grid_auto_flow": null,
            "grid_auto_rows": null,
            "grid_column": null,
            "grid_gap": null,
            "grid_row": null,
            "grid_template_areas": null,
            "grid_template_columns": null,
            "grid_template_rows": null,
            "height": null,
            "justify_content": null,
            "justify_items": null,
            "left": null,
            "margin": null,
            "max_height": null,
            "max_width": null,
            "min_height": null,
            "min_width": null,
            "object_fit": null,
            "object_position": null,
            "order": null,
            "overflow": null,
            "overflow_x": null,
            "overflow_y": null,
            "padding": null,
            "right": null,
            "top": null,
            "visibility": null,
            "width": null
          }
        },
        "d4f8d431d8e044969212933e4effca8e": {
          "model_module": "@jupyter-widgets/controls",
          "model_name": "ButtonStyleModel",
          "model_module_version": "1.5.0",
          "state": {
            "_model_module": "@jupyter-widgets/controls",
            "_model_module_version": "1.5.0",
            "_model_name": "ButtonStyleModel",
            "_view_count": null,
            "_view_module": "@jupyter-widgets/base",
            "_view_module_version": "1.2.0",
            "_view_name": "StyleView",
            "button_color": null,
            "font_weight": ""
          }
        },
        "1afaf1bec8bb4d02b303f611d64ac665": {
          "model_module": "@jupyter-widgets/output",
          "model_name": "OutputModel",
          "model_module_version": "1.0.0",
          "state": {
            "_dom_classes": [],
            "_model_module": "@jupyter-widgets/output",
            "_model_module_version": "1.0.0",
            "_model_name": "OutputModel",
            "_view_count": null,
            "_view_module": "@jupyter-widgets/output",
            "_view_module_version": "1.0.0",
            "_view_name": "OutputView",
            "layout": "IPY_MODEL_b01f4459fd8147de94111191c97c1a8e",
            "msg_id": "",
            "outputs": [
              {
                "output_type": "stream",
                "name": "stdout",
                "text": [
                  "['portiasmith', 'asc0814', 'tigersrule824', 'ecorcoran69', 'Death13']\n",
                  "You have selected 235 classifications from ['portiasmith', 'asc0814', 'tigersrule824', 'ecorcoran69', 'Death13']\n"
                ]
              }
            ]
          }
        },
        "b01f4459fd8147de94111191c97c1a8e": {
          "model_module": "@jupyter-widgets/base",
          "model_name": "LayoutModel",
          "model_module_version": "1.2.0",
          "state": {
            "_model_module": "@jupyter-widgets/base",
            "_model_module_version": "1.2.0",
            "_model_name": "LayoutModel",
            "_view_count": null,
            "_view_module": "@jupyter-widgets/base",
            "_view_module_version": "1.2.0",
            "_view_name": "LayoutView",
            "align_content": null,
            "align_items": null,
            "align_self": null,
            "border": null,
            "bottom": null,
            "display": null,
            "flex": null,
            "flex_flow": null,
            "grid_area": null,
            "grid_auto_columns": null,
            "grid_auto_flow": null,
            "grid_auto_rows": null,
            "grid_column": null,
            "grid_gap": null,
            "grid_row": null,
            "grid_template_areas": null,
            "grid_template_columns": null,
            "grid_template_rows": null,
            "height": null,
            "justify_content": null,
            "justify_items": null,
            "left": null,
            "margin": null,
            "max_height": null,
            "max_width": null,
            "min_height": null,
            "min_width": null,
            "object_fit": null,
            "object_position": null,
            "order": null,
            "overflow": null,
            "overflow_x": null,
            "overflow_y": null,
            "padding": null,
            "right": null,
            "top": null,
            "visibility": null,
            "width": null
          }
        }
      }
    }
  },
  "cells": [
    {
      "cell_type": "markdown",
      "metadata": {
        "id": "view-in-github",
        "colab_type": "text"
      },
      "source": [
        "<a href=\"https://colab.research.google.com/github/victor-wildlife/wild_about_ai_classifications/blob/main/wild_about_ai_classifications.ipynb\" target=\"_parent\"><img src=\"https://colab.research.google.com/assets/colab-badge.svg\" alt=\"Open In Colab\"/></a>"
      ]
    },
    {
      "cell_type": "code",
      "source": [
        "# @title <font size=\"5\">↓ ឵឵<i>Load libraries</font> { vertical-output: true }\n",
        "\n",
        "import base64, io\n",
        "import os\n",
        "import gdown\n",
        "import json\n",
        "import ipywidgets as widgets\n",
        "import pandas as pd\n",
        "import matplotlib.pyplot as plt\n",
        "\n",
        "\n",
        "from IPython.display import HTML\n",
        "from IPython.display import HTML, display, clear_output\n"
      ],
      "metadata": {
        "cellView": "form",
        "id": "8frUgMDCi1s0"
      },
      "execution_count": 1,
      "outputs": []
    },
    {
      "cell_type": "code",
      "source": [
        "# @title <font size=\"5\">↓ ឵឵<i>Download latest zooniverse classifications</font> { vertical-output: true }\n",
        "\n",
        "url = \"https://drive.google.com/drive/folders/12GAX8TZegfS1_Q8bbp4IZEJJ_Mj_FVG0\"\n",
        "gdown.download_folder(url, quiet=True, use_cookies=False)\n"
      ],
      "metadata": {
        "cellView": "form",
        "id": "8jhrAJ3xjYOr",
        "outputId": "fd595d19-67a7-4eea-d53c-8422bcd5571e",
        "colab": {
          "base_uri": "https://localhost:8080/"
        }
      },
      "execution_count": 2,
      "outputs": [
        {
          "output_type": "execute_result",
          "data": {
            "text/plain": [
              "['/content/zooniverse_classifications/spyfish-aotearoa-classifications.csv',\n",
              " '/content/zooniverse_classifications/spyfish-aotearoa-subjects.csv',\n",
              " '/content/zooniverse_classifications/spyfish-aotearoa-workflows.csv']"
            ]
          },
          "metadata": {},
          "execution_count": 2
        }
      ]
    },
    {
      "cell_type": "code",
      "source": [
        "# @title <font size=\"5\">↓ ឵឵<i>Read zooniverse classifications as df</font> { vertical-output: true }\n",
        "\n",
        "directory = os.path.join(os.getcwd(),'zooniverse_classifications')\n",
        "\n",
        "for file in os.listdir(directory):\n",
        "  \n",
        "  file_path = os.path.join(directory, file)\n",
        "  \n",
        "  if \"workflows\" in file:\n",
        "    workflows_df = pd.read_csv(file_path)\n",
        "  \n",
        "  if \"classifications\" in file:\n",
        "    classifications_df = pd.read_csv(file_path)\n",
        "  \n",
        "  if \"subjects\" in file:\n",
        "    subjects_df = pd.read_csv(file_path)\n"
      ],
      "metadata": {
        "cellView": "form",
        "id": "33492jozjEN8"
      },
      "execution_count": 3,
      "outputs": []
    },
    {
      "cell_type": "code",
      "source": [
        "# @title <font size=\"5\">↓ ឵឵<i>Get subject information</font> { vertical-output: true }\n",
        "\n",
        "# Function to extract metadata from subjects\n",
        "def extract_metadata(subj_df: pd.DataFrame):\n",
        "    \"\"\"\n",
        "    > The function takes a dataframe with a column called `metadata` that contains a JSON string. It\n",
        "    then flattens the JSON string into a dataframe and returns the original dataframe with the\n",
        "    `metadata` column removed and the flattened dataframe\n",
        "    :param subj_df: The dataframe containing the subject data\n",
        "    :return: A tuple of two dataframes.\n",
        "    \"\"\"\n",
        "\n",
        "    # Reset index of df\n",
        "    subj_df = subj_df.reset_index(drop=True).reset_index()\n",
        "\n",
        "    # Flatten the metadata information\n",
        "    meta_df = pd.json_normalize(subj_df.metadata.apply(json.loads))\n",
        "\n",
        "    # Drop metadata and index columns from original df\n",
        "    subj_df = subj_df.drop(\n",
        "        columns=[\n",
        "            \"metadata\",\n",
        "            \"index\",\n",
        "        ]\n",
        "    )\n",
        "\n",
        "    return subj_df, meta_df\n",
        "    \n",
        "    \n",
        "# Extract metadata from uploaded subjects\n",
        "subjects_orig, subjects_meta = extract_metadata(subjects_df)\n",
        "\n",
        "# Combine metadata info with the subjects df and drop duplicates\n",
        "subjects = pd.concat([subjects_orig, subjects_meta], axis=1).drop_duplicates(\n",
        "            [\"subject_id\"], keep=\"last\"\n",
        "        )\n"
      ],
      "metadata": {
        "id": "undHDWSvzeQ6"
      },
      "execution_count": 4,
      "outputs": []
    },
    {
      "cell_type": "code",
      "source": [
        "# @title <font size=\"5\">↓ ឵឵<i>Select username</font> { vertical-output: true }\n",
        "    \n",
        "# Create a text input widget for the username\n",
        "username_widget = widgets.Text(\n",
        "    value='',\n",
        "    placeholder='Enter your Zooniverse username(s), separated by commas',\n",
        "    description='Username(s):',\n",
        "    disabled=False\n",
        ")\n",
        "\n",
        "# Create a button to filter the dataframe\n",
        "check_classifications_button = widgets.Button(\n",
        "    description='Check username(s)'\n",
        "    )\n",
        "\n",
        "# Display the widgets\n",
        "display(username_widget)\n",
        "display(check_classifications_button)\n",
        "\n",
        "out = widgets.Output()\n",
        "display(out)\n",
        "\n",
        "# Define a function to process the dataframe by username\n",
        "def check_user_classifications(button):\n",
        "    with out:\n",
        "        clear_output()\n",
        "        # Split the string of usernames based on commas.\n",
        "        list_of_strings = username_widget.value.split(', ')\n",
        "\n",
        "        # Convert each string in the list to a list item.\n",
        "        list_of_usernames = [item for item in list_of_strings]\n",
        "        \n",
        "        if set(list_of_usernames).intersection(classifications_df.user_name.unique()) != set():\n",
        "          filtered_classifications = classifications_df[classifications_df['user_name'].isin(list_of_usernames)]\n",
        "          print(\"You have selected\", filtered_classifications.shape[0], \"classifications from\", list_of_usernames)\n",
        "        \n",
        "        else:\n",
        "          raise ValueError(\n",
        "                    \"The username(s) doesn't exist or doesn't have classifications any subjects in this project\"\n",
        "                )\n",
        "      \n",
        "      \n",
        "check_classifications_button.on_click(check_user_classifications)"
      ],
      "metadata": {
        "id": "ZeC4wUd4rnwK",
        "outputId": "4550cb9a-e1ab-49ae-9e49-e86c59d08831",
        "colab": {
          "base_uri": "https://localhost:8080/",
          "height": 133,
          "referenced_widgets": [
            "e422a7776c8a44089d3eeaebbc4262d2",
            "ad6bd4bfaebe4372980c9b71bc0ac9f7",
            "3f9bf5cc74bd4bf58d3af82323f61e7c",
            "6a65b7f717394a6dae655484622c2152",
            "1cd65cdfd58b42159240da8f2044145d",
            "d4f8d431d8e044969212933e4effca8e",
            "1afaf1bec8bb4d02b303f611d64ac665",
            "b01f4459fd8147de94111191c97c1a8e"
          ]
        }
      },
      "execution_count": 8,
      "outputs": [
        {
          "output_type": "display_data",
          "data": {
            "text/plain": [
              "Text(value='', description='Username(s):', placeholder='Enter your Zooniverse username(s), separated by commas…"
            ],
            "application/vnd.jupyter.widget-view+json": {
              "version_major": 2,
              "version_minor": 0,
              "model_id": "e422a7776c8a44089d3eeaebbc4262d2"
            }
          },
          "metadata": {}
        },
        {
          "output_type": "display_data",
          "data": {
            "text/plain": [
              "Button(description='Check username(s)', style=ButtonStyle())"
            ],
            "application/vnd.jupyter.widget-view+json": {
              "version_major": 2,
              "version_minor": 0,
              "model_id": "6a65b7f717394a6dae655484622c2152"
            }
          },
          "metadata": {}
        },
        {
          "output_type": "display_data",
          "data": {
            "text/plain": [
              "Output()"
            ],
            "application/vnd.jupyter.widget-view+json": {
              "version_major": 2,
              "version_minor": 0,
              "model_id": "1afaf1bec8bb4d02b303f611d64ac665"
            }
          },
          "metadata": {}
        }
      ]
    },
    {
      "cell_type": "code",
      "source": [
        "# @title <font size=\"5\">↓ ឵឵<i>Define functions to filter and process classifications</font> { vertical-output: true }\n",
        "\n",
        "def flatten_clip_annotations(annotations, row_class_id, rows_list: list):\n",
        "    \"\"\"\n",
        "    For each annotation, if the task is T0, then for each species annotated, flatten the relevant\n",
        "    answers and save the species of choice, class and subject id.\n",
        "    :param annotations: the list of annotations for a given subject\n",
        "    :param row_class_id: the classification id\n",
        "    :param rows_list: a list of dictionaries, each dictionary is a row in the output dataframe\n",
        "    :return: A list of dictionaries, each dictionary containing the classification id, the label, the\n",
        "    first seen time and the number of individuals.\n",
        "    \"\"\"\n",
        "\n",
        "    for ann_i in annotations:\n",
        "        if ann_i[\"task\"] == \"T0\":\n",
        "            # Select each species annotated and flatten the relevant answers\n",
        "            for value_i in ann_i[\"value\"]:\n",
        "                choice_i = {}\n",
        "                # If choice = 'nothing here', set follow-up answers to blank\n",
        "                if value_i[\"choice\"] == \"NOTHINGHERE\":\n",
        "                    f_time = \"\"\n",
        "                    inds = \"\"\n",
        "                # If choice = species, flatten follow-up answers\n",
        "                else:\n",
        "                    answers = value_i[\"answers\"]\n",
        "                    for k in answers.keys():\n",
        "                        if \"EARLIESTPOINT\" in k:\n",
        "                            f_time = answers[k].replace(\"S\", \"\")\n",
        "                        if \"HOWMANY\" in k:\n",
        "                            inds = answers[k]\n",
        "                            # Deal with +20 fish options\n",
        "                            if inds == \"2030\":\n",
        "                                inds = \"25\"\n",
        "                            if inds == \"3040\":\n",
        "                                inds = \"35\"\n",
        "                        elif \"EARLIESTPOINT\" not in k and \"HOWMANY\" not in k:\n",
        "                            f_time, inds = None, None\n",
        "\n",
        "                # Save the species of choice, class and subject id\n",
        "                choice_i.update(\n",
        "                    {\n",
        "                        \"classification_id\": row_class_id,\n",
        "                        \"label\": value_i[\"choice\"],\n",
        "                        \"first_seen\": f_time,\n",
        "                        \"how_many\": inds,\n",
        "                    }\n",
        "                )\n",
        "\n",
        "                rows_list.append(choice_i)\n",
        "\n",
        "    return rows_list\n",
        "    \n",
        "def process_clips(df: pd.DataFrame):\n",
        "    \"\"\"\n",
        "    This function takes a dataframe of classifications and returns a dataframe of annotations\n",
        "    :param df: the dataframe of classifications\n",
        "    :type df: pd.DataFrame\n",
        "    :return: A dataframe with the classification_id, label, how_many, first_seen, https_location,\n",
        "    subject_type, and subject_ids.\n",
        "    \"\"\"\n",
        "\n",
        "    # Create an empty list\n",
        "    rows_list = []\n",
        "\n",
        "    # Loop through each classification submitted by the users\n",
        "    for index, row in df.iterrows():\n",
        "        # Load annotations as json format\n",
        "        annotations = json.loads(row[\"annotations\"])\n",
        "\n",
        "        rows_list = flatten_clip_annotations(\n",
        "            annotations, row[\"classification_id\"], rows_list\n",
        "        )\n",
        "        \n",
        "\n",
        "    # Create a data frame with annotations as rows\n",
        "    annot_df = pd.DataFrame(\n",
        "        rows_list, \n",
        "        columns=[\"classification_id\", \"label\", \"first_seen\", \"how_many\"]\n",
        "    )\n",
        "\n",
        "    # Specify the type of columns of the df\n",
        "    annot_df[\"how_many\"] = pd.to_numeric(annot_df[\"how_many\"])\n",
        "    annot_df[\"first_seen\"] = pd.to_numeric(annot_df[\"first_seen\"])\n",
        "\n",
        "    # Add subject id to each annotation\n",
        "    annot_df = pd.merge(\n",
        "        annot_df,\n",
        "        df.drop(columns=[\"annotations\"]),\n",
        "        how=\"left\",\n",
        "        on=\"classification_id\",\n",
        "    )\n",
        "\n",
        "    # Select only relevant columns\n",
        "    annot_df = annot_df[\n",
        "        [\n",
        "            \"classification_id\",\n",
        "            \"label\",\n",
        "            \"how_many\",\n",
        "            \"first_seen\",\n",
        "            \"subject_ids\",\n",
        "            \"Subject_type\",\n",
        "            \"upl_seconds\",\n",
        "            \"ProtectionStatus\",\n",
        "            \"!LinkToMarineReserve\",\n",
        "            \"#created_on\",\n",
        "        ]\n",
        "    ]\n",
        "\n",
        "    return pd.DataFrame(annot_df)\n",
        "    \n",
        "# Define a function to process the classifications\n",
        "def process_classifications(df, subjects):\n",
        "    # Combine the filtered classifications and subject information\n",
        "    annotations_df = pd.merge(\n",
        "        df,\n",
        "        subjects,\n",
        "        how=\"left\",\n",
        "        left_on=\"subject_ids\",\n",
        "        right_on=\"subject_id\",\n",
        "        validate=\"many_to_one\",\n",
        "    )\n",
        "\n",
        "    # Select only \"clip\" classifications\n",
        "    annotations_df = annotations_df[annotations_df['Subject_type'] == \"clip\"]\n",
        "\n",
        "    # Flatten the classifications\n",
        "    flattened_df = process_clips(annotations_df)\n",
        "\n",
        "    # Recode nothing here annotations\n",
        "    flattened_df.loc[flattened_df['label'] == 'NOTHINGHERE', 'how_many'] = 1\n",
        "\n",
        "    # Recode values that contain the string \"Type I MPA (Marine Reserve)\" to \"Protected\"\n",
        "    flattened_df['ProtectionStatus'] = flattened_df['ProtectionStatus'].replace('Type I MPA (Marine Reserve)', 'Protected')\n",
        "    flattened_df['ProtectionStatus'] = flattened_df['ProtectionStatus'].replace('No Protection', 'No Protected')\n",
        "\n",
        "    # Sample an equal number of classifications inside and outside the reserves\n",
        "    groups = flattened_df.groupby('ProtectionStatus')\n",
        "    flattened_df = groups.apply(lambda x: x.sample(groups.size().min())).reset_index(drop=True)\n",
        "\n",
        "    return flattened_df\n",
        "\n",
        "# Define function to plot the classifications\n",
        "def plot_side_side_classifications(data, user_i):\n",
        "    # Group data by species and protection status and sum counts\n",
        "    species_counts = data.groupby(['label', 'ProtectionStatus'])['how_many'].sum().unstack()\n",
        "    \n",
        "    # Arrange df to have protected vs no protected and from higest to lowest number of count\n",
        "    species_counts = species_counts.sort_values(\"Protected\", ascending=False)[['Protected', 'No Protected']]\n",
        "\n",
        "    # Plot side-by-side bar chart\n",
        "    ax = species_counts.plot(kind='bar', width=0.4)\n",
        "    plt.xlabel('Species')\n",
        "    plt.ylabel('Count')\n",
        "    plt.title(f'Count of species of {data.classification_id.nunique()} classifications by {user_i}')\n",
        "    plt.legend(title='Protection', loc='upper right')\n",
        "    plt.show()\n",
        "\n",
        "\n",
        "\n",
        "# Define functions to download df as CSV\n",
        "def create_download_link_csv(df, title = \"Download CSV file\", filename = \"data.csv\"):  \n",
        "    # generate in-memory CSV, then base64-encode it\n",
        "    csv = df.to_csv(index=False)\n",
        "    b64 = base64.b64encode(csv.encode())\n",
        "    payload = b64.decode()\n",
        "    html = '<a download=\"{filename}\" href=\"data:text/csv;base64,{payload}\" target=\"_blank\">{title}</a>'\n",
        "    html = html.format(payload=payload,title=title,filename=filename)\n",
        "    \n",
        "    return HTML(html)"
      ],
      "metadata": {
        "cellView": "form",
        "id": "Ezkj9vwwYt30"
      },
      "execution_count": 12,
      "outputs": []
    },
    {
      "cell_type": "code",
      "source": [
        "# @title <font size=\"5\">↓ ឵឵<i>Process and download classifications</font> { vertical-output: true }\n",
        "\n",
        "user_i = username_widget.value\n",
        "\n",
        "# Split the string of usernames based on commas.\n",
        "list_of_strings = username_widget.value.split(', ')\n",
        "\n",
        "# Convert each string in the list to a list item.\n",
        "list_of_usernames = [item for item in list_of_strings]\n",
        "\n",
        "# Select classifications provided by the usernames of interest\n",
        "filtered_classifications = classifications_df[classifications_df['user_name'].isin(list_of_usernames)]\n",
        "          \n",
        "# Process and clean the filtered classifications\n",
        "proccessed_classifications = process_classifications(filtered_classifications, subjects)\n",
        "\n",
        "\n",
        "plot_side_side_classifications(proccessed_classifications, user_i)\n",
        "\n",
        "# Provide options to download the classifications as csv\n",
        "create_download_link_csv(proccessed_classifications,\n",
        "                          \"Download my data in csv\",\n",
        "                          \"classifications.csv\")"
      ],
      "metadata": {
        "id": "MrGVtLDK1aKe",
        "outputId": "4a66cf79-3ec1-4499-e533-0671bf1ffde2",
        "colab": {
          "base_uri": "https://localhost:8080/",
          "height": 545
        }
      },
      "execution_count": 16,
      "outputs": [
        {
          "output_type": "display_data",
          "data": {
            "text/plain": [
              "<Figure size 640x480 with 1 Axes>"
            ],
            "image/png": "[encoded data removed]"
          },
          "metadata": {}
        },
        {
          "output_type": "execute_result",
          "data": {
            "text/plain": [
              "<IPython.core.display.HTML object>"
            ],
            "text/html": [
              "<a download=\"classifications.csv\" href=\"data:text/csv;base64,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\" target=\"_blank\">Download my data in csv</a>"
            ]
          },
          "metadata": {},
          "execution_count": 16
        }
      ]
    }
  ]
}