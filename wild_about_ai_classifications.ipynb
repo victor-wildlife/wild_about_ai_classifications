{
  "nbformat": 4,
  "nbformat_minor": 0,
  "metadata": {
    "colab": {
      "provenance": [],
      "toc_visible": true,
      "authorship_tag": "ABX9TyMuVRQ8X9Xh1IGX3tIr/FqH",
      "include_colab_link": true
    },
    "kernelspec": {
      "name": "python3",
      "display_name": "Python 3"
    },
    "language_info": {
      "name": "python"
    },
    "widgets": {
      "application/vnd.jupyter.widget-state+json": {
        "69454f8b0ea64354b5dd410e6ebc571f": {
          "model_module": "@jupyter-widgets/controls",
          "model_name": "TextModel",
          "model_module_version": "1.5.0",
          "state": {
            "_dom_classes": [],
            "_model_module": "@jupyter-widgets/controls",
            "_model_module_version": "1.5.0",
            "_model_name": "TextModel",
            "_view_count": null,
            "_view_module": "@jupyter-widgets/controls",
            "_view_module_version": "1.5.0",
            "_view_name": "TextView",
            "continuous_update": true,
            "description": "Username(s):",
            "description_tooltip": null,
            "disabled": false,
            "layout": "IPY_MODEL_b40ea224aad9418fb9db56f158472d75",
            "placeholder": "Enter your Zooniverse username(s), separated by commas",
            "style": "IPY_MODEL_6e612f7d652a48b8b63a7b2c57a2d61c",
            "value": "not-logged-in-bbec7d24458885957ea0"
          }
        },
        "b40ea224aad9418fb9db56f158472d75": {
          "model_module": "@jupyter-widgets/base",
          "model_name": "LayoutModel",
          "model_module_version": "1.2.0",
          "state": {
            "_model_module": "@jupyter-widgets/base",
            "_model_module_version": "1.2.0",
            "_model_name": "LayoutModel",
            "_view_count": null,
            "_view_module": "@jupyter-widgets/base",
            "_view_module_version": "1.2.0",
            "_view_name": "LayoutView",
            "align_content": null,
            "align_items": null,
            "align_self": null,
            "border": null,
            "bottom": null,
            "display": null,
            "flex": null,
            "flex_flow": null,
            "grid_area": null,
            "grid_auto_columns": null,
            "grid_auto_flow": null,
            "grid_auto_rows": null,
            "grid_column": null,
            "grid_gap": null,
            "grid_row": null,
            "grid_template_areas": null,
            "grid_template_columns": null,
            "grid_template_rows": null,
            "height": null,
            "justify_content": null,
            "justify_items": null,
            "left": null,
            "margin": null,
            "max_height": null,
            "max_width": null,
            "min_height": null,
            "min_width": null,
            "object_fit": null,
            "object_position": null,
            "order": null,
            "overflow": null,
            "overflow_x": null,
            "overflow_y": null,
            "padding": null,
            "right": null,
            "top": null,
            "visibility": null,
            "width": null
          }
        },
        "6e612f7d652a48b8b63a7b2c57a2d61c": {
          "model_module": "@jupyter-widgets/controls",
          "model_name": "DescriptionStyleModel",
          "model_module_version": "1.5.0",
          "state": {
            "_model_module": "@jupyter-widgets/controls",
            "_model_module_version": "1.5.0",
            "_model_name": "DescriptionStyleModel",
            "_view_count": null,
            "_view_module": "@jupyter-widgets/base",
            "_view_module_version": "1.2.0",
            "_view_name": "StyleView",
            "description_width": ""
          }
        },
        "4fde58c38c034ebe89fdc1481dbeb1ff": {
          "model_module": "@jupyter-widgets/controls",
          "model_name": "ButtonModel",
          "model_module_version": "1.5.0",
          "state": {
            "_dom_classes": [],
            "_model_module": "@jupyter-widgets/controls",
            "_model_module_version": "1.5.0",
            "_model_name": "ButtonModel",
            "_view_count": null,
            "_view_module": "@jupyter-widgets/controls",
            "_view_module_version": "1.5.0",
            "_view_name": "ButtonView",
            "button_style": "",
            "description": "Check username(s)",
            "disabled": false,
            "icon": "",
            "layout": "IPY_MODEL_8f973d41bd1f4213a860a900103441ce",
            "style": "IPY_MODEL_6309b3fe517943c7937b2cbb57579866",
            "tooltip": ""
          }
        },
        "8f973d41bd1f4213a860a900103441ce": {
          "model_module": "@jupyter-widgets/base",
          "model_name": "LayoutModel",
          "model_module_version": "1.2.0",
          "state": {
            "_model_module": "@jupyter-widgets/base",
            "_model_module_version": "1.2.0",
            "_model_name": "LayoutModel",
            "_view_count": null,
            "_view_module": "@jupyter-widgets/base",
            "_view_module_version": "1.2.0",
            "_view_name": "LayoutView",
            "align_content": null,
            "align_items": null,
            "align_self": null,
            "border": null,
            "bottom": null,
            "display": null,
            "flex": null,
            "flex_flow": null,
            "grid_area": null,
            "grid_auto_columns": null,
            "grid_auto_flow": null,
            "grid_auto_rows": null,
            "grid_column": null,
            "grid_gap": null,
            "grid_row": null,
            "grid_template_areas": null,
            "grid_template_columns": null,
            "grid_template_rows": null,
            "height": null,
            "justify_content": null,
            "justify_items": null,
            "left": null,
            "margin": null,
            "max_height": null,
            "max_width": null,
            "min_height": null,
            "min_width": null,
            "object_fit": null,
            "object_position": null,
            "order": null,
            "overflow": null,
            "overflow_x": null,
            "overflow_y": null,
            "padding": null,
            "right": null,
            "top": null,
            "visibility": null,
            "width": null
          }
        },
        "6309b3fe517943c7937b2cbb57579866": {
          "model_module": "@jupyter-widgets/controls",
          "model_name": "ButtonStyleModel",
          "model_module_version": "1.5.0",
          "state": {
            "_model_module": "@jupyter-widgets/controls",
            "_model_module_version": "1.5.0",
            "_model_name": "ButtonStyleModel",
            "_view_count": null,
            "_view_module": "@jupyter-widgets/base",
            "_view_module_version": "1.2.0",
            "_view_name": "StyleView",
            "button_color": null,
            "font_weight": ""
          }
        },
        "c5120f6de9ca4128a55d9ff9fb5b3451": {
          "model_module": "@jupyter-widgets/output",
          "model_name": "OutputModel",
          "model_module_version": "1.0.0",
          "state": {
            "_dom_classes": [],
            "_model_module": "@jupyter-widgets/output",
            "_model_module_version": "1.0.0",
            "_model_name": "OutputModel",
            "_view_count": null,
            "_view_module": "@jupyter-widgets/output",
            "_view_module_version": "1.0.0",
            "_view_name": "OutputView",
            "layout": "IPY_MODEL_8a4bc7d5ebb94a348922b05c96391a4b",
            "msg_id": "",
            "outputs": [
              {
                "output_type": "stream",
                "name": "stdout",
                "text": [
                  "You have selected 267 classifications from ['not-logged-in-bbec7d24458885957ea0']\n"
                ]
              }
            ]
          }
        },
        "8a4bc7d5ebb94a348922b05c96391a4b": {
          "model_module": "@jupyter-widgets/base",
          "model_name": "LayoutModel",
          "model_module_version": "1.2.0",
          "state": {
            "_model_module": "@jupyter-widgets/base",
            "_model_module_version": "1.2.0",
            "_model_name": "LayoutModel",
            "_view_count": null,
            "_view_module": "@jupyter-widgets/base",
            "_view_module_version": "1.2.0",
            "_view_name": "LayoutView",
            "align_content": null,
            "align_items": null,
            "align_self": null,
            "border": null,
            "bottom": null,
            "display": null,
            "flex": null,
            "flex_flow": null,
            "grid_area": null,
            "grid_auto_columns": null,
            "grid_auto_flow": null,
            "grid_auto_rows": null,
            "grid_column": null,
            "grid_gap": null,
            "grid_row": null,
            "grid_template_areas": null,
            "grid_template_columns": null,
            "grid_template_rows": null,
            "height": null,
            "justify_content": null,
            "justify_items": null,
            "left": null,
            "margin": null,
            "max_height": null,
            "max_width": null,
            "min_height": null,
            "min_width": null,
            "object_fit": null,
            "object_position": null,
            "order": null,
            "overflow": null,
            "overflow_x": null,
            "overflow_y": null,
            "padding": null,
            "right": null,
            "top": null,
            "visibility": null,
            "width": null
          }
        }
      }
    }
  },
  "cells": [
    {
      "cell_type": "markdown",
      "metadata": {
        "id": "view-in-github",
        "colab_type": "text"
      },
      "source": [
        "<a href=\"https://colab.research.google.com/github/victor-wildlife/wild_about_ai_classifications/blob/main/wild_about_ai_classifications.ipynb\" target=\"_parent\"><img src=\"https://colab.research.google.com/assets/colab-badge.svg\" alt=\"Open In Colab\"/></a>"
      ]
    },
    {
      "cell_type": "code",
      "source": [
        "# @title <font size=\"5\">↓ ឵឵<i>Load libraries</font> { vertical-output: true }\n",
        "\n",
        "import base64, io\n",
        "import os\n",
        "import gdown\n",
        "import json\n",
        "import ipywidgets as widgets\n",
        "import pandas as pd\n",
        "import matplotlib.pyplot as plt\n",
        "\n",
        "\n",
        "from IPython.display import HTML\n",
        "from IPython.display import HTML, display, clear_output\n"
      ],
      "metadata": {
        "cellView": "form",
        "id": "8frUgMDCi1s0"
      },
      "execution_count": 1,
      "outputs": []
    },
    {
      "cell_type": "code",
      "source": [
        "# @title <font size=\"5\">↓ ឵឵<i>Download latest zooniverse classifications</font> { vertical-output: true }\n",
        "\n",
        "url = \"https://drive.google.com/drive/folders/12GAX8TZegfS1_Q8bbp4IZEJJ_Mj_FVG0\"\n",
        "gdown.download_folder(url, quiet=True, use_cookies=False)\n"
      ],
      "metadata": {
        "cellView": "form",
        "id": "8jhrAJ3xjYOr",
        "outputId": "1004d441-9aef-45b1-90e5-33081ce6faac",
        "colab": {
          "base_uri": "https://localhost:8080/"
        }
      },
      "execution_count": 2,
      "outputs": [
        {
          "output_type": "execute_result",
          "data": {
            "text/plain": [
              "['/content/zooniverse_classifications/spyfish-aotearoa-classifications.csv',\n",
              " '/content/zooniverse_classifications/spyfish-aotearoa-subjects.csv',\n",
              " '/content/zooniverse_classifications/spyfish-aotearoa-workflows.csv']"
            ]
          },
          "metadata": {},
          "execution_count": 2
        }
      ]
    },
    {
      "cell_type": "code",
      "source": [
        "# @title <font size=\"5\">↓ ឵឵<i>Read zooniverse classifications as df</font> { vertical-output: true }\n",
        "\n",
        "directory = os.path.join(os.getcwd(),'zooniverse_classifications')\n",
        "\n",
        "for file in os.listdir(directory):\n",
        "  \n",
        "  file_path = os.path.join(directory, file)\n",
        "  \n",
        "  if \"workflows\" in file:\n",
        "    workflows_df = pd.read_csv(file_path)\n",
        "  \n",
        "  if \"classifications\" in file:\n",
        "    classifications_df = pd.read_csv(file_path)\n",
        "  \n",
        "  if \"subjects\" in file:\n",
        "    subjects_df = pd.read_csv(file_path)\n"
      ],
      "metadata": {
        "cellView": "form",
        "id": "33492jozjEN8"
      },
      "execution_count": 21,
      "outputs": []
    },
    {
      "cell_type": "code",
      "source": [
        "# @title <font size=\"5\">↓ ឵឵<i>Get subject information</font> { vertical-output: true }\n",
        "\n",
        "# Function to extract metadata from subjects\n",
        "def extract_metadata(subj_df: pd.DataFrame):\n",
        "    \"\"\"\n",
        "    > The function takes a dataframe with a column called `metadata` that contains a JSON string. It\n",
        "    then flattens the JSON string into a dataframe and returns the original dataframe with the\n",
        "    `metadata` column removed and the flattened dataframe\n",
        "    :param subj_df: The dataframe containing the subject data\n",
        "    :return: A tuple of two dataframes.\n",
        "    \"\"\"\n",
        "\n",
        "    # Reset index of df\n",
        "    subj_df = subj_df.reset_index(drop=True).reset_index()\n",
        "\n",
        "    # Flatten the metadata information\n",
        "    meta_df = pd.json_normalize(subj_df.metadata.apply(json.loads))\n",
        "\n",
        "    # Drop metadata and index columns from original df\n",
        "    subj_df = subj_df.drop(\n",
        "        columns=[\n",
        "            \"metadata\",\n",
        "            \"index\",\n",
        "        ]\n",
        "    )\n",
        "\n",
        "    return subj_df, meta_df\n",
        "    \n",
        "    \n",
        "# Extract metadata from uploaded subjects\n",
        "subjects_orig, subjects_meta = extract_metadata(subjects_df)\n",
        "\n",
        "# Combine metadata info with the subjects df and drop duplicates\n",
        "subjects = pd.concat([subjects_orig, subjects_meta], axis=1).drop_duplicates(\n",
        "            [\"subject_id\"], keep=\"last\"\n",
        "        )\n"
      ],
      "metadata": {
        "id": "undHDWSvzeQ6",
        "cellView": "form"
      },
      "execution_count": 22,
      "outputs": []
    },
    {
      "cell_type": "code",
      "source": [
        "# @title <font size=\"5\">↓ ឵឵<i>Select username</font> { vertical-output: true }\n",
        "    \n",
        "# Create a text input widget for the username\n",
        "username_widget = widgets.Text(\n",
        "    value='',\n",
        "    placeholder='Enter your Zooniverse username(s), separated by commas',\n",
        "    description='Username(s):',\n",
        "    disabled=False\n",
        ")\n",
        "\n",
        "# Create a button to filter the dataframe\n",
        "check_classifications_button = widgets.Button(\n",
        "    description='Check username(s)'\n",
        "    )\n",
        "\n",
        "# Display the widgets\n",
        "display(username_widget)\n",
        "display(check_classifications_button)\n",
        "\n",
        "out = widgets.Output()\n",
        "display(out)\n",
        "\n",
        "# Define a function to process the dataframe by username\n",
        "def check_user_classifications(button):\n",
        "    with out:\n",
        "        clear_output()\n",
        "        # Split the string of usernames based on commas.\n",
        "        list_of_strings = username_widget.value.split(', ')\n",
        "\n",
        "        # Convert each string in the list to a list item.\n",
        "        list_of_usernames = [item for item in list_of_strings]\n",
        "        \n",
        "        if set(list_of_usernames).intersection(classifications_df.user_name.unique()) != set():\n",
        "          filtered_classifications = classifications_df[classifications_df['user_name'].isin(list_of_usernames)]\n",
        "          print(\"You have selected\", filtered_classifications.shape[0], \"classifications from\", list_of_usernames)\n",
        "        \n",
        "        else:\n",
        "          raise ValueError(\n",
        "                    \"The username(s) doesn't exist or doesn't have classifications any subjects in this project\"\n",
        "                )\n",
        "      \n",
        "      \n",
        "check_classifications_button.on_click(check_user_classifications)"
      ],
      "metadata": {
        "id": "ZeC4wUd4rnwK",
        "outputId": "008d56f4-c9f0-4de0-d858-bf33d22e8d11",
        "colab": {
          "base_uri": "https://localhost:8080/",
          "height": 98,
          "referenced_widgets": [
            "69454f8b0ea64354b5dd410e6ebc571f",
            "b40ea224aad9418fb9db56f158472d75",
            "6e612f7d652a48b8b63a7b2c57a2d61c",
            "4fde58c38c034ebe89fdc1481dbeb1ff",
            "8f973d41bd1f4213a860a900103441ce",
            "6309b3fe517943c7937b2cbb57579866",
            "c5120f6de9ca4128a55d9ff9fb5b3451",
            "8a4bc7d5ebb94a348922b05c96391a4b"
          ]
        },
        "cellView": "form"
      },
      "execution_count": 23,
      "outputs": [
        {
          "output_type": "display_data",
          "data": {
            "text/plain": [
              "Text(value='', description='Username(s):', placeholder='Enter your Zooniverse username(s), separated by commas…"
            ],
            "application/vnd.jupyter.widget-view+json": {
              "version_major": 2,
              "version_minor": 0,
              "model_id": "69454f8b0ea64354b5dd410e6ebc571f"
            }
          },
          "metadata": {}
        },
        {
          "output_type": "display_data",
          "data": {
            "text/plain": [
              "Button(description='Check username(s)', style=ButtonStyle())"
            ],
            "application/vnd.jupyter.widget-view+json": {
              "version_major": 2,
              "version_minor": 0,
              "model_id": "4fde58c38c034ebe89fdc1481dbeb1ff"
            }
          },
          "metadata": {}
        },
        {
          "output_type": "display_data",
          "data": {
            "text/plain": [
              "Output()"
            ],
            "application/vnd.jupyter.widget-view+json": {
              "version_major": 2,
              "version_minor": 0,
              "model_id": "c5120f6de9ca4128a55d9ff9fb5b3451"
            }
          },
          "metadata": {}
        }
      ]
    },
    {
      "cell_type": "code",
      "source": [
        "# @title <font size=\"5\">↓ ឵឵<i>Define functions to filter and process classifications</font> { vertical-output: true }\n",
        "\n",
        "def flatten_clip_annotations(annotations, row_class_id, rows_list: list):\n",
        "    \"\"\"\n",
        "    For each annotation, if the task is T0, then for each species annotated, flatten the relevant\n",
        "    answers and save the species of choice, class and subject id.\n",
        "    :param annotations: the list of annotations for a given subject\n",
        "    :param row_class_id: the classification id\n",
        "    :param rows_list: a list of dictionaries, each dictionary is a row in the output dataframe\n",
        "    :return: A list of dictionaries, each dictionary containing the classification id, the label, the\n",
        "    first seen time and the number of individuals.\n",
        "    \"\"\"\n",
        "\n",
        "    for ann_i in annotations:\n",
        "        if ann_i[\"task\"] == \"T0\":\n",
        "            # Select each species annotated and flatten the relevant answers\n",
        "            for value_i in ann_i[\"value\"]:\n",
        "                choice_i = {}\n",
        "                # If choice = 'nothing here', set follow-up answers to blank\n",
        "                if value_i[\"choice\"] == \"NOTHINGHERE\":\n",
        "                    f_time = \"\"\n",
        "                    inds = \"\"\n",
        "                # If choice = species, flatten follow-up answers\n",
        "                else:\n",
        "                    answers = value_i[\"answers\"]\n",
        "                    for k in answers.keys():\n",
        "                        if \"EARLIESTPOINT\" in k:\n",
        "                            f_time = answers[k].replace(\"S\", \"\")\n",
        "                        if \"HOWMANY\" in k:\n",
        "                            inds = answers[k]\n",
        "                            # Deal with +20 fish options\n",
        "                            if inds == \"2030\":\n",
        "                                inds = \"25\"\n",
        "                            if inds == \"3040\":\n",
        "                                inds = \"35\"\n",
        "                        elif \"EARLIESTPOINT\" not in k and \"HOWMANY\" not in k:\n",
        "                            f_time, inds = None, None\n",
        "\n",
        "                # Save the species of choice, class and subject id\n",
        "                choice_i.update(\n",
        "                    {\n",
        "                        \"classification_id\": row_class_id,\n",
        "                        \"label\": value_i[\"choice\"],\n",
        "                        \"first_seen\": f_time,\n",
        "                        \"how_many\": inds,\n",
        "                    }\n",
        "                )\n",
        "\n",
        "                rows_list.append(choice_i)\n",
        "\n",
        "    return rows_list\n",
        "    \n",
        "def process_clips(df: pd.DataFrame):\n",
        "    \"\"\"\n",
        "    This function takes a dataframe of classifications and returns a dataframe of annotations\n",
        "    :param df: the dataframe of classifications\n",
        "    :type df: pd.DataFrame\n",
        "    :return: A dataframe with the classification_id, label, how_many, first_seen, https_location,\n",
        "    subject_type, and subject_ids.\n",
        "    \"\"\"\n",
        "\n",
        "    # Create an empty list\n",
        "    rows_list = []\n",
        "\n",
        "    # Loop through each classification submitted by the users\n",
        "    for index, row in df.iterrows():\n",
        "        # Load annotations as json format\n",
        "        annotations = json.loads(row[\"annotations\"])\n",
        "\n",
        "        rows_list = flatten_clip_annotations(\n",
        "            annotations, row[\"classification_id\"], rows_list\n",
        "        )\n",
        "        \n",
        "\n",
        "    # Create a data frame with annotations as rows\n",
        "    annot_df = pd.DataFrame(\n",
        "        rows_list, \n",
        "        columns=[\"classification_id\", \"label\", \"first_seen\", \"how_many\"]\n",
        "    )\n",
        "\n",
        "    # Specify the type of columns of the df\n",
        "    annot_df[\"how_many\"] = pd.to_numeric(annot_df[\"how_many\"])\n",
        "    annot_df[\"first_seen\"] = pd.to_numeric(annot_df[\"first_seen\"])\n",
        "\n",
        "    # Add subject id to each annotation\n",
        "    annot_df = pd.merge(\n",
        "        annot_df,\n",
        "        df.drop(columns=[\"annotations\"]),\n",
        "        how=\"left\",\n",
        "        on=\"classification_id\",\n",
        "    )\n",
        "\n",
        "    # Select only relevant columns\n",
        "    annot_df = annot_df[\n",
        "        [\n",
        "            \"classification_id\",\n",
        "            \"label\",\n",
        "            \"how_many\",\n",
        "            \"first_seen\",\n",
        "            \"subject_ids\",\n",
        "            \"Subject_type\",\n",
        "            \"upl_seconds\",\n",
        "            \"ProtectionStatus\",\n",
        "            \"!LinkToMarineReserve\",\n",
        "            \"#created_on\",\n",
        "        ]\n",
        "    ]\n",
        "\n",
        "    return pd.DataFrame(annot_df)\n",
        "    \n",
        "# Define a function to process the classifications\n",
        "def process_classifications(df, subjects):\n",
        "    # Combine the filtered classifications and subject information\n",
        "    annotations_df = pd.merge(\n",
        "        df,\n",
        "        subjects,\n",
        "        how=\"left\",\n",
        "        left_on=\"subject_ids\",\n",
        "        right_on=\"subject_id\",\n",
        "        validate=\"many_to_one\",\n",
        "    )\n",
        "\n",
        "    # Select only \"clip\" classifications\n",
        "    annotations_df = annotations_df[annotations_df['Subject_type'] == \"clip\"]\n",
        "\n",
        "    # Flatten the classifications\n",
        "    flattened_df = process_clips(annotations_df)\n",
        "\n",
        "    # Recode nothing here annotations\n",
        "    flattened_df.loc[flattened_df['label'] == 'NOTHINGHERE', 'how_many'] = 1\n",
        "\n",
        "    # Recode values that contain the string \"Type I MPA (Marine Reserve)\" to \"Protected\"\n",
        "    flattened_df['ProtectionStatus'] = flattened_df['ProtectionStatus'].replace('Type I MPA (Marine Reserve)', 'Protected')\n",
        "    flattened_df['ProtectionStatus'] = flattened_df['ProtectionStatus'].replace('No Protection', 'No Protected')\n",
        "\n",
        "    # Sample an equal number of classifications inside and outside the reserves\n",
        "    groups = flattened_df.groupby('ProtectionStatus')\n",
        "    flattened_df = groups.apply(lambda x: x.sample(groups.size().min())).reset_index(drop=True)\n",
        "\n",
        "    return flattened_df\n",
        "\n",
        "# Define function to plot the classifications\n",
        "def plot_side_side_classifications(data, user_i):\n",
        "    # Group data by species and protection status and sum counts\n",
        "    species_counts = data.groupby(['label', 'ProtectionStatus'])['how_many'].sum().unstack()\n",
        "    \n",
        "    # Arrange df to have protected vs no protected and from higest to lowest number of count\n",
        "    species_counts = species_counts.sort_values(\"Protected\", ascending=False)[['Protected', 'No Protected']]\n",
        "\n",
        "    # Plot side-by-side bar chart\n",
        "    ax = species_counts.plot(kind='bar', width=0.4)\n",
        "    plt.xlabel('Species')\n",
        "    plt.ylabel('Count')\n",
        "    plt.title(f'Count of species of {data.classification_id.nunique()} classifications by {user_i}')\n",
        "    plt.legend(title='Protection', loc='upper right')\n",
        "    plt.show()\n",
        "\n",
        "\n",
        "\n",
        "# Define functions to download df as CSV\n",
        "def create_download_link_csv(df, title = \"Download CSV file\", filename = \"data.csv\"):  \n",
        "    # generate in-memory CSV, then base64-encode it\n",
        "    csv = df.to_csv(index=False)\n",
        "    b64 = base64.b64encode(csv.encode())\n",
        "    payload = b64.decode()\n",
        "    html = '<a download=\"{filename}\" href=\"data:text/csv;base64,{payload}\" target=\"_blank\">{title}</a>'\n",
        "    html = html.format(payload=payload,title=title,filename=filename)\n",
        "    \n",
        "    return HTML(html)"
      ],
      "metadata": {
        "cellView": "form",
        "id": "Ezkj9vwwYt30"
      },
      "execution_count": 24,
      "outputs": []
    },
    {
      "cell_type": "code",
      "source": [
        "# @title <font size=\"5\">↓ ឵឵<i>Process and download classifications</font> { vertical-output: true }\n",
        "\n",
        "user_i = username_widget.value\n",
        "\n",
        "# Split the string of usernames based on commas.\n",
        "list_of_strings = username_widget.value.split(', ')\n",
        "\n",
        "# Convert each string in the list to a list item.\n",
        "list_of_usernames = [item for item in list_of_strings]\n",
        "\n",
        "# Using pandas.to_datetime() to convert pandas column to DateTime\n",
        "classifications_df['created_at'] = pd.to_datetime(classifications_df['created_at'])\n",
        "\n",
        "# Filter the classifications to those only received after certain date\n",
        "cut_off_date = '2023-06-05'\n",
        "filtered_classifications = classifications_df[classifications_df['created_at']>cut_off_date]\n",
        "\n",
        "# Select classifications provided by the usernames of interest\n",
        "filtered_classifications = filtered_classifications[filtered_classifications['user_name'].isin(list_of_usernames)]\n",
        "          \n",
        "# Process and clean the filtered classifications\n",
        "proccessed_classifications = process_classifications(filtered_classifications, subjects)\n",
        "\n",
        "\n",
        "plot_side_side_classifications(proccessed_classifications, user_i)\n",
        "\n",
        "# Provide options to download the classifications as csv\n",
        "create_download_link_csv(proccessed_classifications,\n",
        "                          \"Download my data in csv\",\n",
        "                          \"classifications.csv\")"
      ],
      "metadata": {
        "id": "MrGVtLDK1aKe",
        "outputId": "6cda4b6e-dd9a-4cbe-f713-edd1a34d474f",
        "colab": {
          "base_uri": "https://localhost:8080/",
          "height": 596
        }
      },
      "execution_count": 26,
      "outputs": [
        {
          "output_type": "display_data",
          "data": {
            "text/plain": [
              "<Figure size 640x480 with 1 Axes>"
            ],
            "image/png": "[encoded data removed]"
          },
          "metadata": {}
        },
        {
          "output_type": "execute_result",
          "data": {
            "text/plain": [
              "<IPython.core.display.HTML object>"
            ],
            "text/html": [
              "<a download=\"classifications.csv\" href=\"data:text/csv;base64,Y2xhc3NpZmljYXRpb25faWQsbGFiZWwsaG93X21hbnksZmlyc3Rfc2VlbixzdWJqZWN0X2lkcyxTdWJqZWN0X3R5cGUsdXBsX3NlY29uZHMsUHJvdGVjdGlvblN0YXR1cywhTGlua1RvTWFyaW5lUmVzZXJ2ZSwjY3JlYXRlZF9vbgo0OTQ3NDg5MjYsQkxVRUNPRCw0LjAsNy4wLDgyMzg5NTgwLGNsaXAsNDA0LjAsTm8gUHJvdGVjdGVkLFRvbmdhIElzbGFuZCBNYXJpbmUgUmVzZXJ2ZSwyOC8xMC8yMDIxCjQ5MzkyODU1OSxTQ0FSTEVUV1JBU1NFLDIuMCwxLjAsODkxNzMwMTgsY2xpcCwxMTYuMCxObyBwcm90ZWN0aW9uLFRhcHVhZSBNYXJpbmUgUmVzZXJ2ZSw1LzAzLzIwMjIKNDk0MzEyMzIxLE5PVEhJTkdIRVJFLDEuMCwsODkxNzI4MzksY2xpcCwyMjIuMCxQcm90ZWN0ZWQsVGFwdWFlIE1hcmluZSBSZXNlcnZlLDMvMDMvMjAyMgo=\" target=\"_blank\">Download my data in csv</a>"
            ]
          },
          "metadata": {},
          "execution_count": 26
        }
      ]
    }
  ]
}