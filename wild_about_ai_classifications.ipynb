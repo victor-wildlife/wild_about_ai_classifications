{
  "nbformat": 4,
  "nbformat_minor": 0,
  "metadata": {
    "colab": {
      "provenance": [],
      "authorship_tag": "ABX9TyP/3fmHhK2aXT4A1jYHdZtS",
      "include_colab_link": true
    },
    "kernelspec": {
      "name": "python3",
      "display_name": "Python 3"
    },
    "language_info": {
      "name": "python"
    },
    "widgets": {
      "application/vnd.jupyter.widget-state+json": {
        "15b4aac65fc44f99a27955b365395968": {
          "model_module": "@jupyter-widgets/controls",
          "model_name": "TextModel",
          "model_module_version": "1.5.0",
          "state": {
            "_dom_classes": [],
            "_model_module": "@jupyter-widgets/controls",
            "_model_module_version": "1.5.0",
            "_model_name": "TextModel",
            "_view_count": null,
            "_view_module": "@jupyter-widgets/controls",
            "_view_module_version": "1.5.0",
            "_view_name": "TextView",
            "continuous_update": true,
            "description": "Zooniverse username:",
            "description_tooltip": null,
            "disabled": false,
            "layout": "IPY_MODEL_2f7851f9930b4929b8947210e7058801",
            "placeholder": "Enter your Zooniverse username",
            "style": "IPY_MODEL_f9cbb0975a234f95b20820cd8fdb93e5",
            "value": "victorav"
          }
        },
        "2f7851f9930b4929b8947210e7058801": {
          "model_module": "@jupyter-widgets/base",
          "model_name": "LayoutModel",
          "model_module_version": "1.2.0",
          "state": {
            "_model_module": "@jupyter-widgets/base",
            "_model_module_version": "1.2.0",
            "_model_name": "LayoutModel",
            "_view_count": null,
            "_view_module": "@jupyter-widgets/base",
            "_view_module_version": "1.2.0",
            "_view_name": "LayoutView",
            "align_content": null,
            "align_items": null,
            "align_self": null,
            "border": null,
            "bottom": null,
            "display": null,
            "flex": null,
            "flex_flow": null,
            "grid_area": null,
            "grid_auto_columns": null,
            "grid_auto_flow": null,
            "grid_auto_rows": null,
            "grid_column": null,
            "grid_gap": null,
            "grid_row": null,
            "grid_template_areas": null,
            "grid_template_columns": null,
            "grid_template_rows": null,
            "height": null,
            "justify_content": null,
            "justify_items": null,
            "left": null,
            "margin": null,
            "max_height": null,
            "max_width": null,
            "min_height": null,
            "min_width": null,
            "object_fit": null,
            "object_position": null,
            "order": null,
            "overflow": null,
            "overflow_x": null,
            "overflow_y": null,
            "padding": null,
            "right": null,
            "top": null,
            "visibility": null,
            "width": null
          }
        },
        "f9cbb0975a234f95b20820cd8fdb93e5": {
          "model_module": "@jupyter-widgets/controls",
          "model_name": "DescriptionStyleModel",
          "model_module_version": "1.5.0",
          "state": {
            "_model_module": "@jupyter-widgets/controls",
            "_model_module_version": "1.5.0",
            "_model_name": "DescriptionStyleModel",
            "_view_count": null,
            "_view_module": "@jupyter-widgets/base",
            "_view_module_version": "1.2.0",
            "_view_name": "StyleView",
            "description_width": ""
          }
        },
        "89896d246ec84ebf9a1b5d8e22e4bc2b": {
          "model_module": "@jupyter-widgets/controls",
          "model_name": "ButtonModel",
          "model_module_version": "1.5.0",
          "state": {
            "_dom_classes": [],
            "_model_module": "@jupyter-widgets/controls",
            "_model_module_version": "1.5.0",
            "_model_name": "ButtonModel",
            "_view_count": null,
            "_view_module": "@jupyter-widgets/controls",
            "_view_module_version": "1.5.0",
            "_view_name": "ButtonView",
            "button_style": "",
            "description": "Get classifications",
            "disabled": false,
            "icon": "",
            "layout": "IPY_MODEL_691b4aa46d7f42ab83a725283cbaa892",
            "style": "IPY_MODEL_cf9c3d4fa52f4df69a048de73cc3650d",
            "tooltip": ""
          }
        },
        "691b4aa46d7f42ab83a725283cbaa892": {
          "model_module": "@jupyter-widgets/base",
          "model_name": "LayoutModel",
          "model_module_version": "1.2.0",
          "state": {
            "_model_module": "@jupyter-widgets/base",
            "_model_module_version": "1.2.0",
            "_model_name": "LayoutModel",
            "_view_count": null,
            "_view_module": "@jupyter-widgets/base",
            "_view_module_version": "1.2.0",
            "_view_name": "LayoutView",
            "align_content": null,
            "align_items": null,
            "align_self": null,
            "border": null,
            "bottom": null,
            "display": null,
            "flex": null,
            "flex_flow": null,
            "grid_area": null,
            "grid_auto_columns": null,
            "grid_auto_flow": null,
            "grid_auto_rows": null,
            "grid_column": null,
            "grid_gap": null,
            "grid_row": null,
            "grid_template_areas": null,
            "grid_template_columns": null,
            "grid_template_rows": null,
            "height": null,
            "justify_content": null,
            "justify_items": null,
            "left": null,
            "margin": null,
            "max_height": null,
            "max_width": null,
            "min_height": null,
            "min_width": null,
            "object_fit": null,
            "object_position": null,
            "order": null,
            "overflow": null,
            "overflow_x": null,
            "overflow_y": null,
            "padding": null,
            "right": null,
            "top": null,
            "visibility": null,
            "width": null
          }
        },
        "cf9c3d4fa52f4df69a048de73cc3650d": {
          "model_module": "@jupyter-widgets/controls",
          "model_name": "ButtonStyleModel",
          "model_module_version": "1.5.0",
          "state": {
            "_model_module": "@jupyter-widgets/controls",
            "_model_module_version": "1.5.0",
            "_model_name": "ButtonStyleModel",
            "_view_count": null,
            "_view_module": "@jupyter-widgets/base",
            "_view_module_version": "1.2.0",
            "_view_name": "StyleView",
            "button_color": null,
            "font_weight": ""
          }
        },
        "d2251d92d87e400ba0b516a4dccf2bdc": {
          "model_module": "@jupyter-widgets/output",
          "model_name": "OutputModel",
          "model_module_version": "1.0.0",
          "state": {
            "_dom_classes": [],
            "_model_module": "@jupyter-widgets/output",
            "_model_module_version": "1.0.0",
            "_model_name": "OutputModel",
            "_view_count": null,
            "_view_module": "@jupyter-widgets/output",
            "_view_module_version": "1.0.0",
            "_view_name": "OutputView",
            "layout": "IPY_MODEL_b40b7852aee140de836c6d41322fc02f",
            "msg_id": "",
            "outputs": [
              {
                "output_type": "stream",
                "name": "stdout",
                "text": [
                  "Selected 11 classifications from victorav\n"
                ]
              }
            ]
          }
        },
        "b40b7852aee140de836c6d41322fc02f": {
          "model_module": "@jupyter-widgets/base",
          "model_name": "LayoutModel",
          "model_module_version": "1.2.0",
          "state": {
            "_model_module": "@jupyter-widgets/base",
            "_model_module_version": "1.2.0",
            "_model_name": "LayoutModel",
            "_view_count": null,
            "_view_module": "@jupyter-widgets/base",
            "_view_module_version": "1.2.0",
            "_view_name": "LayoutView",
            "align_content": null,
            "align_items": null,
            "align_self": null,
            "border": null,
            "bottom": null,
            "display": null,
            "flex": null,
            "flex_flow": null,
            "grid_area": null,
            "grid_auto_columns": null,
            "grid_auto_flow": null,
            "grid_auto_rows": null,
            "grid_column": null,
            "grid_gap": null,
            "grid_row": null,
            "grid_template_areas": null,
            "grid_template_columns": null,
            "grid_template_rows": null,
            "height": null,
            "justify_content": null,
            "justify_items": null,
            "left": null,
            "margin": null,
            "max_height": null,
            "max_width": null,
            "min_height": null,
            "min_width": null,
            "object_fit": null,
            "object_position": null,
            "order": null,
            "overflow": null,
            "overflow_x": null,
            "overflow_y": null,
            "padding": null,
            "right": null,
            "top": null,
            "visibility": null,
            "width": null
          }
        },
        "0f298d2a5a0d430388acb048e851c1d6": {
          "model_module": "@jupyter-widgets/output",
          "model_name": "OutputModel",
          "model_module_version": "1.0.0",
          "state": {
            "_dom_classes": [],
            "_model_module": "@jupyter-widgets/output",
            "_model_module_version": "1.0.0",
            "_model_name": "OutputModel",
            "_view_count": null,
            "_view_module": "@jupyter-widgets/output",
            "_view_module_version": "1.0.0",
            "_view_name": "OutputView",
            "layout": "IPY_MODEL_a2f469f44b1c4fea82796f9bcdc32715",
            "msg_id": "",
            "outputs": [
              {
                "output_type": "display_data",
                "data": {
                  "text/plain": "<IPython.core.display.HTML object>",
                  "text/html": "<script>\n        var a = document.createElement('a');\n        a.setAttribute('download', 'shit.txt');\n        a.setAttribute('href', 'data:text/plain;charset=utf-8;base64,c2hpdA==');\n        a.click()\n    </script>"
                },
                "metadata": {}
              }
            ]
          }
        },
        "a2f469f44b1c4fea82796f9bcdc32715": {
          "model_module": "@jupyter-widgets/base",
          "model_name": "LayoutModel",
          "model_module_version": "1.2.0",
          "state": {
            "_model_module": "@jupyter-widgets/base",
            "_model_module_version": "1.2.0",
            "_model_name": "LayoutModel",
            "_view_count": null,
            "_view_module": "@jupyter-widgets/base",
            "_view_module_version": "1.2.0",
            "_view_name": "LayoutView",
            "align_content": null,
            "align_items": null,
            "align_self": null,
            "border": null,
            "bottom": null,
            "display": null,
            "flex": null,
            "flex_flow": null,
            "grid_area": null,
            "grid_auto_columns": null,
            "grid_auto_flow": null,
            "grid_auto_rows": null,
            "grid_column": null,
            "grid_gap": null,
            "grid_row": null,
            "grid_template_areas": null,
            "grid_template_columns": null,
            "grid_template_rows": null,
            "height": null,
            "justify_content": null,
            "justify_items": null,
            "left": null,
            "margin": null,
            "max_height": null,
            "max_width": null,
            "min_height": null,
            "min_width": null,
            "object_fit": null,
            "object_position": null,
            "order": null,
            "overflow": null,
            "overflow_x": null,
            "overflow_y": null,
            "padding": null,
            "right": null,
            "top": null,
            "visibility": null,
            "width": null
          }
        },
        "4e257ac126a34a4787aa706efab21fcd": {
          "model_module": "@jupyter-widgets/controls",
          "model_name": "ButtonModel",
          "model_module_version": "1.5.0",
          "state": {
            "_dom_classes": [],
            "_model_module": "@jupyter-widgets/controls",
            "_model_module_version": "1.5.0",
            "_model_name": "ButtonModel",
            "_view_count": null,
            "_view_module": "@jupyter-widgets/controls",
            "_view_module_version": "1.5.0",
            "_view_name": "ButtonView",
            "button_style": "",
            "description": "download some shit",
            "disabled": false,
            "icon": "",
            "layout": "IPY_MODEL_f313d0e097e14b638151c5d0153bb48c",
            "style": "IPY_MODEL_04fa1d4157e544a48fed3a33c6ea99ee",
            "tooltip": ""
          }
        },
        "f313d0e097e14b638151c5d0153bb48c": {
          "model_module": "@jupyter-widgets/base",
          "model_name": "LayoutModel",
          "model_module_version": "1.2.0",
          "state": {
            "_model_module": "@jupyter-widgets/base",
            "_model_module_version": "1.2.0",
            "_model_name": "LayoutModel",
            "_view_count": null,
            "_view_module": "@jupyter-widgets/base",
            "_view_module_version": "1.2.0",
            "_view_name": "LayoutView",
            "align_content": null,
            "align_items": null,
            "align_self": null,
            "border": null,
            "bottom": null,
            "display": null,
            "flex": null,
            "flex_flow": null,
            "grid_area": null,
            "grid_auto_columns": null,
            "grid_auto_flow": null,
            "grid_auto_rows": null,
            "grid_column": null,
            "grid_gap": null,
            "grid_row": null,
            "grid_template_areas": null,
            "grid_template_columns": null,
            "grid_template_rows": null,
            "height": null,
            "justify_content": null,
            "justify_items": null,
            "left": null,
            "margin": null,
            "max_height": null,
            "max_width": null,
            "min_height": null,
            "min_width": null,
            "object_fit": null,
            "object_position": null,
            "order": null,
            "overflow": null,
            "overflow_x": null,
            "overflow_y": null,
            "padding": null,
            "right": null,
            "top": null,
            "visibility": null,
            "width": null
          }
        },
        "04fa1d4157e544a48fed3a33c6ea99ee": {
          "model_module": "@jupyter-widgets/controls",
          "model_name": "ButtonStyleModel",
          "model_module_version": "1.5.0",
          "state": {
            "_model_module": "@jupyter-widgets/controls",
            "_model_module_version": "1.5.0",
            "_model_name": "ButtonStyleModel",
            "_view_count": null,
            "_view_module": "@jupyter-widgets/base",
            "_view_module_version": "1.2.0",
            "_view_name": "StyleView",
            "button_color": null,
            "font_weight": ""
          }
        }
      }
    }
  },
  "cells": [
    {
      "cell_type": "markdown",
      "metadata": {
        "id": "view-in-github",
        "colab_type": "text"
      },
      "source": [
        "<a href=\"https://colab.research.google.com/github/victor-wildlife/wild_about_ai_classifications/blob/main/wild_about_ai_classifications.ipynb\" target=\"_parent\"><img src=\"https://colab.research.google.com/assets/colab-badge.svg\" alt=\"Open In Colab\"/></a>"
      ]
    },
    {
      "cell_type": "code",
      "execution_count": 2,
      "metadata": {
        "colab": {
          "base_uri": "https://localhost:8080/"
        },
        "id": "7tlAipPNa2c0",
        "outputId": "38e8681e-fdf0-43a5-d7ac-858c76b96521"
      },
      "outputs": [
        {
          "output_type": "execute_result",
          "data": {
            "text/plain": [
              "['/content/zooniverse_classifications/spyfish-aotearoa-classifications.csv',\n",
              " '/content/zooniverse_classifications/spyfish-aotearoa-subjects.csv',\n",
              " '/content/zooniverse_classifications/spyfish-aotearoa-workflows.csv']"
            ]
          },
          "metadata": {},
          "execution_count": 2
        }
      ],
      "source": [
        "# @title <font size=\"5\">↓ ឵឵<i>Download latest zooniverse classifications</font> { vertical-output: true }\n",
        "\n",
        "import gdown\n",
        "url = \"https://drive.google.com/drive/folders/12GAX8TZegfS1_Q8bbp4IZEJJ_Mj_FVG0\"\n",
        "gdown.download_folder(url, quiet=True, use_cookies=False)"
      ]
    },
    {
      "cell_type": "code",
      "source": [
        "# @title <font size=\"5\">↓ ឵឵<i>Read zooniverse classifications as df</font> { vertical-output: true }\n",
        "\n",
        "import pandas as pd\n",
        "import os \n",
        "\n",
        "directory = '/content/zooniverse_classifications'\n",
        "\n",
        "for file in os.listdir(directory):\n",
        "  \n",
        "  file_path = os.path.join(directory, file)\n",
        "  \n",
        "  if \"workflows\" in file:\n",
        "    workflows_df = pd.read_csv(file_path)\n",
        "  \n",
        "  if \"classifications\" in file:\n",
        "    classifications_df = pd.read_csv(file_path)\n",
        "  \n",
        "  if \"subjects\" in file:\n",
        "    subjects_df = pd.read_csv(file_path)\n"
      ],
      "metadata": {
        "id": "3-RAWktKgIYW"
      },
      "execution_count": 8,
      "outputs": []
    },
    {
      "cell_type": "code",
      "source": [
        "# @title <font size=\"5\">↓ ឵឵<i>Filter classifications by username</font> { vertical-output: true }\n",
        "import ipywidgets as widgets\n",
        "from IPython.display import display, clear_output\n",
        "\n",
        "# Create a text input widget for the username\n",
        "username_widget = widgets.Text(\n",
        "    value='',\n",
        "    placeholder='Enter your Zooniverse username',\n",
        "    description='Zooniverse username:',\n",
        "    disabled=False\n",
        ")\n",
        "# Define a function to filter the dataframe by username\n",
        "def filter_dataframe(username):\n",
        "    if username in classifications_df.user_name.unique():\n",
        "      filtered_classifications = classifications_df[classifications_df['user_name'] == username]\n",
        "      print(\"Selected\", filtered_classifications.shape[0], \"classifications from\", username)\n",
        "\n",
        "      return filtered_classifications\n",
        "  \n",
        "    else:\n",
        "      raise ValueError(\n",
        "                \"The username doesn't exist or doesn't have classifications any subjects in this project\"\n",
        "            )\n",
        "\n",
        "# Create a button to filter the dataframe\n",
        "filter_button = widgets.Button(description='Get classifications')\n",
        "\n",
        "def filter_classifications(button):\n",
        "    with out:\n",
        "        clear_output()\n",
        "        # Select classifications provided by the username of interest\n",
        "        filtered_df = filter_dataframe(username_widget.value)\n",
        "        \n",
        "        # Flatten the classifications\n",
        "        \n",
        "        \n",
        "        # Download the classifications\n",
        "        filtered_df.to_csv('classifications_zoo.csv', index=False)\n",
        "\n",
        "\n",
        "# Display the widgets\n",
        "display(username_widget)\n",
        "display(filter_button)\n",
        "\n",
        "out = widgets.Output()\n",
        "display(out)\n",
        "\n",
        "\n",
        "filtered_classifications = filter_button.on_click(filter_classifications)"
      ],
      "metadata": {
        "colab": {
          "base_uri": "https://localhost:8080/",
          "height": 98,
          "referenced_widgets": [
            "15b4aac65fc44f99a27955b365395968",
            "2f7851f9930b4929b8947210e7058801",
            "f9cbb0975a234f95b20820cd8fdb93e5",
            "89896d246ec84ebf9a1b5d8e22e4bc2b",
            "691b4aa46d7f42ab83a725283cbaa892",
            "cf9c3d4fa52f4df69a048de73cc3650d",
            "d2251d92d87e400ba0b516a4dccf2bdc",
            "b40b7852aee140de836c6d41322fc02f"
          ]
        },
        "id": "Ezkj9vwwYt30",
        "outputId": "be6d2d9d-ebe6-4ccf-bf04-03b554b7280a"
      },
      "execution_count": 25,
      "outputs": [
        {
          "output_type": "display_data",
          "data": {
            "text/plain": [
              "Text(value='', description='Zooniverse username:', placeholder='Enter your Zooniverse username')"
            ],
            "application/vnd.jupyter.widget-view+json": {
              "version_major": 2,
              "version_minor": 0,
              "model_id": "15b4aac65fc44f99a27955b365395968"
            }
          },
          "metadata": {}
        },
        {
          "output_type": "display_data",
          "data": {
            "text/plain": [
              "Button(description='Get classifications', style=ButtonStyle())"
            ],
            "application/vnd.jupyter.widget-view+json": {
              "version_major": 2,
              "version_minor": 0,
              "model_id": "89896d246ec84ebf9a1b5d8e22e4bc2b"
            }
          },
          "metadata": {}
        },
        {
          "output_type": "display_data",
          "data": {
            "text/plain": [
              "Output()"
            ],
            "application/vnd.jupyter.widget-view+json": {
              "version_major": 2,
              "version_minor": 0,
              "model_id": "d2251d92d87e400ba0b516a4dccf2bdc"
            }
          },
          "metadata": {}
        }
      ]
    },
    {
      "cell_type": "code",
      "source": [
        "# from ipywidgets import Output, Button\n",
        "# from IPython.display import HTML, clear_output\n",
        "# from base64 import b64encode\n",
        "\n",
        "# download_output = Output()\n",
        "# display(download_output)\n",
        "# def trigger_download(text, filename, kind='text/json'):\n",
        "#     # see https://developer.mozilla.org/en-US/docs/Web/HTTP/Basics_of_HTTP/Data_URIs for details\n",
        "#     content_b64 = b64encode(text.encode()).decode()\n",
        "#     data_url = f'data:{kind};charset=utf-8;base64,{content_b64}'\n",
        "#     js_code = f\"\"\"\n",
        "#         var a = document.createElement('a');\n",
        "#         a.setAttribute('download', '{filename}');\n",
        "#         a.setAttribute('href', '{data_url}');\n",
        "#         a.click()\n",
        "#     \"\"\"\n",
        "#     with download_output:\n",
        "#         clear_output()\n",
        "#         display(HTML(f'<script>{js_code}</script>'))\n",
        "\n",
        "# btn = Button(description='download some shit')\n",
        "# def download_shit(e=None):\n",
        "#     trigger_download('shit', 'shit.txt', kind='text/plain')\n",
        "# btn.on_click(download_shit)\n",
        "# display(btn)"
      ],
      "metadata": {
        "colab": {
          "base_uri": "https://localhost:8080/",
          "height": 49,
          "referenced_widgets": [
            "0f298d2a5a0d430388acb048e851c1d6",
            "a2f469f44b1c4fea82796f9bcdc32715",
            "4e257ac126a34a4787aa706efab21fcd",
            "f313d0e097e14b638151c5d0153bb48c",
            "04fa1d4157e544a48fed3a33c6ea99ee"
          ]
        },
        "id": "OnT_j-d3fQEC",
        "outputId": "fd080c7f-560f-48f8-d6df-6b27bab084da"
      },
      "execution_count": 27,
      "outputs": [
        {
          "output_type": "display_data",
          "data": {
            "text/plain": [
              "Output()"
            ],
            "application/vnd.jupyter.widget-view+json": {
              "version_major": 2,
              "version_minor": 0,
              "model_id": "0f298d2a5a0d430388acb048e851c1d6"
            }
          },
          "metadata": {}
        },
        {
          "output_type": "display_data",
          "data": {
            "text/plain": [
              "Button(description='download some shit', style=ButtonStyle())"
            ],
            "application/vnd.jupyter.widget-view+json": {
              "version_major": 2,
              "version_minor": 0,
              "model_id": "4e257ac126a34a4787aa706efab21fcd"
            }
          },
          "metadata": {}
        }
      ]
    },
    {
      "cell_type": "code",
      "source": [
        "# # Combine annotation and subject information\n",
        "#     annotations_df = pd.merge(\n",
        "#         annotations,\n",
        "#         subjects_df,\n",
        "#         how=\"left\",\n",
        "#         left_on=\"subject_ids\",\n",
        "#         right_on=\"id\",\n",
        "#         validate=\"many_to_one\",\n",
        "#     )\n"
      ],
      "metadata": {
        "id": "OcHh5WThYHqU"
      },
      "execution_count": null,
      "outputs": []
    },
    {
      "cell_type": "code",
      "source": [
        "# Extract metadata from uploaded subjects\n",
        "#     subjects_df, subjects_meta = extract_metadata(subjects)\n",
        "\n",
        "#     # Combine metadata info with the subjects df\n",
        "#     subjects = pd.concat([subjects_df, subjects_meta], axis=1)\n",
        "\n",
        "#     # Check if the Zooniverse project is the Spyfish\n",
        "#     if project_name == \"Spyfish_Aotearoa\":\n",
        "#         subjects = process_spyfish_subjects(subjects, db_path)\n",
        "\n",
        "#     # If project is not KSO or Spyfish standardise subject info\n",
        "#     else:\n",
        "#         # Create columns to match schema if they don't exist\n",
        "#         subjects[\"frame_exp_sp_id\"] = subjects.get(\"frame_exp_sp_id\", np.nan)\n",
        "#         subjects[\"frame_number\"] = subjects.get(\"frame_number\", np.nan)\n",
        "\n",
        "#         # Select only relevant metadata columns\n",
        "#         subjects = subjects[\n",
        "#             [\n",
        "#                 \"subject_id\",\n",
        "#                 \"project_id\",\n",
        "#                 \"workflow_id\",\n",
        "#                 \"subject_set_id\",\n",
        "#                 \"locations\",\n",
        "#                 \"movie_id\",\n",
        "#                 \"frame_number\",\n",
        "#                 \"frame_exp_sp_id\",\n",
        "#                 \"upl_seconds\",\n",
        "#                 \"Subject_type\",\n",
        "#                 \"subject_type\",\n",
        "#                 \"#VideoFilename\",\n",
        "#                 \"#clip_length\",\n",
        "#                 \"classifications_count\",\n",
        "#                 \"retired_at\",\n",
        "#                 \"retirement_reason\",\n",
        "#                 \"created_at\",\n",
        "#             ]\n",
        "#         ]\n",
        "\n",
        "#         # Fix weird bug where Subject_type is used instead of subject_type for the column name for some clips\n",
        "#         if \"Subject_type\" in subjects.columns:\n",
        "#             subjects[\"subject_type\"] = subjects[\n",
        "#                 [\"subject_type\", \"Subject_type\"]\n",
        "#             ].apply(lambda x: x[1] if isinstance(x[1], str) else x[0], 1)\n",
        "#             subjects.drop(columns=[\"Subject_type\"], inplace=True)\n",
        "\n",
        "#         # Rename columns to match the db format\n",
        "#         subjects = subjects.rename(\n",
        "#             columns={\n",
        "#                 \"#VideoFilename\": \"filename\",\n",
        "#                 \"upl_seconds\": \"clip_start_time\",\n",
        "#                 \"#frame_number\": \"frame_number\",\n",
        "#             }\n",
        "#         )\n",
        "\n",
        "#         # Remove clip subjects with no clip_start_time info (from different projects)\n",
        "#         subjects = subjects[\n",
        "#             ~(\n",
        "#                 (subjects[\"subject_type\"] == \"clip\")\n",
        "#                 & (subjects[\"clip_start_time\"].isna())\n",
        "#             )\n",
        "#         ]\n",
        "\n",
        "#         # Calculate the clip_end_time\n",
        "#         subjects[\"clip_end_time\"] = (\n",
        "#             subjects[\"clip_start_time\"] + subjects[\"#clip_length\"]\n",
        "#         )\n",
        "\n",
        "# # Set subject_id information as id\n",
        "# subjects = subjects.rename(columns={\"subject_id\": \"id\"})\n",
        "\n",
        "# # Extract the html location of the subjects\n",
        "# subjects[\"https_location\"] = subjects[\"locations\"].apply(\n",
        "#     lambda x: literal_eval(x)[\"0\"]\n",
        "# )\n",
        "\n",
        "# # Set movie_id column to None if no movies are linked to the subject\n",
        "# if movie_folder == \"None\" and server in [\"LOCAL\", \"SNIC\"]:\n",
        "#     subjects[\"movie_id\"] = None\n",
        "\n",
        "# # Fix subjects where clip_start_time is not provided but upl_seconds is\n",
        "# if \"clip_start_time\" in subjects.columns and \"upl_seconds\" in subjects.columns:\n",
        "#     subjects[\"clip_start_time\"] = subjects[\n",
        "#         [\"clip_start_time\", \"upl_seconds\"]\n",
        "#     ].apply(lambda x: x[0] if not np.isnan(x[0]) else x[1], 1)\n",
        "\n",
        "# # Set the columns in the right order\n",
        "# subjects = subjects[\n",
        "#     [\n",
        "#         \"id\",\n",
        "#         \"subject_type\",\n",
        "#         \"filename\",\n",
        "#         \"clip_start_time\",\n",
        "#         \"clip_end_time\",\n",
        "#         \"frame_exp_sp_id\",\n",
        "#         \"frame_number\",\n",
        "#         \"workflow_id\",\n",
        "#         \"subject_set_id\",\n",
        "#         \"classifications_count\",\n",
        "#         \"retired_at\",\n",
        "#         \"retirement_reason\",\n",
        "#         \"created_at\",\n",
        "#         \"https_location\",\n",
        "#         \"movie_id\",\n",
        "#     ]\n",
        "# ]"
      ],
      "metadata": {
        "id": "Uwx47T8hYYFd"
      },
      "execution_count": null,
      "outputs": []
    }
  ]
}